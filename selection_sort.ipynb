{
 "cells": [
  {
   "cell_type": "code",
   "execution_count": 9,
   "metadata": {},
   "outputs": [],
   "source": [
    "\n",
    "def find_min_element(lst):\n",
    "    min=10000000\n",
    "    for i in range(len(lst)):\n",
    "        if lst[i] < min :\n",
    "            min=lst[i]\n",
    "    return min\n",
    "\n"
   ]
  },
  {
   "cell_type": "code",
   "execution_count": 1,
   "metadata": {},
   "outputs": [],
   "source": [
    "\n",
    "def selection_sort(lst):\n",
    "    for i in range(len(lst)-1):\n",
    "        min_index=i\n",
    "        for j in range(min_index+1,len(lst)):\n",
    "            \n",
    "            if lst[j]<lst[min_index]:\n",
    "                min_index=j   #index of j in the other array from which we find mininmum element is swapwith min_index .\n",
    "        lst[i],lst[min_index]=lst[min_index],lst[i]\n"
   ]
  },
  {
   "cell_type": "code",
   "execution_count": 2,
   "metadata": {},
   "outputs": [
    {
     "name": "stdout",
     "output_type": "stream",
     "text": [
      "[1, 4, 4, 5, 6, 15, 22, 26, 44, 45, 49, 52, 58]\n"
     ]
    }
   ],
   "source": [
    "if __name__=='__main__':\n",
    "    lst=[5,4,15,22,58,26,44,45,49,52,1,6,4]\n",
    "    #x=find_min_element(lst)\n",
    "    selection_sort(lst)\n",
    "   # print(x)\n",
    "    print(lst)"
   ]
  },
  {
   "cell_type": "code",
   "execution_count": null,
   "metadata": {},
   "outputs": [],
   "source": []
  },
  {
   "cell_type": "code",
   "execution_count": null,
   "metadata": {},
   "outputs": [],
   "source": []
  }
 ],
 "metadata": {
  "kernelspec": {
   "display_name": "Python 3",
   "language": "python",
   "name": "python3"
  },
  "language_info": {
   "codemirror_mode": {
    "name": "ipython",
    "version": 3
   },
   "file_extension": ".py",
   "mimetype": "text/x-python",
   "name": "python",
   "nbconvert_exporter": "python",
   "pygments_lexer": "ipython3",
   "version": "3.8.3"
  }
 },
 "nbformat": 4,
 "nbformat_minor": 4
}
