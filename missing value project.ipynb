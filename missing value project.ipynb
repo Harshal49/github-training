{
 "cells": [
  {
   "cell_type": "code",
   "execution_count": 15,
   "metadata": {},
   "outputs": [
    {
     "name": "stdout",
     "output_type": "stream",
     "text": [
      "The Percenatge of Value Missing in Given Data is : 39.53%\n",
      "\n",
      "The Percenatge of Value Missing in Given column is : 6.98%\n",
      "The Categorical Data we have : ['sex', 'state']\n",
      "\n",
      "Shape of dataframe (Rows, Columns):  (20, 6)\n",
      "\n",
      "Data description :         student_id   marks_10   marks_12        salary\n",
      "count    20.00000  14.000000  14.000000     13.000000\n",
      "mean     10.50000  60.285714  65.857143   9461.538462\n",
      "std       5.91608  16.813129  15.634563    672.728848\n",
      "min       1.00000  23.000000  45.000000   8500.000000\n",
      "25%       5.75000  48.250000  53.750000   8500.000000\n",
      "50%      10.50000  65.000000  65.000000   9800.000000\n",
      "75%      15.25000  69.750000  75.000000  10000.000000\n",
      "max      20.00000  89.000000  98.000000  10000.000000\n",
      "\n",
      " missing values will be treated using arbitrary value \n",
      "enter the column which you want to fillmarks_10\n",
      "Following line plot shows missing data in given dataset \n",
      "enter the arbitrary_value a/c to graph90\n"
     ]
    },
    {
     "data": {
      "text/html": [
       "<table border=\"1\" class=\"dataframe\">\n",
       "  <thead>\n",
       "    <tr style=\"text-align: right;\">\n",
       "      <th></th>\n",
       "      <th>student_id</th>\n",
       "      <th>marks_10</th>\n",
       "      <th>marks_12</th>\n",
       "      <th>state</th>\n",
       "      <th>sex</th>\n",
       "      <th>salary</th>\n",
       "    </tr>\n",
       "  </thead>\n",
       "  <tbody>\n",
       "    <tr>\n",
       "      <th>0</th>\n",
       "      <td>1</td>\n",
       "      <td>55</td>\n",
       "      <td>NaN</td>\n",
       "      <td>NaN</td>\n",
       "      <td>Male</td>\n",
       "      <td>10000.0</td>\n",
       "    </tr>\n",
       "    <tr>\n",
       "      <th>1</th>\n",
       "      <td>2</td>\n",
       "      <td>90</td>\n",
       "      <td>78.0</td>\n",
       "      <td>MH</td>\n",
       "      <td>Female</td>\n",
       "      <td>9800.0</td>\n",
       "    </tr>\n",
       "    <tr>\n",
       "      <th>2</th>\n",
       "      <td>3</td>\n",
       "      <td>65</td>\n",
       "      <td>98.0</td>\n",
       "      <td>MH</td>\n",
       "      <td>NaN</td>\n",
       "      <td>NaN</td>\n",
       "    </tr>\n",
       "    <tr>\n",
       "      <th>3</th>\n",
       "      <td>4</td>\n",
       "      <td>23</td>\n",
       "      <td>65.0</td>\n",
       "      <td>MH</td>\n",
       "      <td>Male</td>\n",
       "      <td>NaN</td>\n",
       "    </tr>\n",
       "    <tr>\n",
       "      <th>4</th>\n",
       "      <td>5</td>\n",
       "      <td>89</td>\n",
       "      <td>75.0</td>\n",
       "      <td>MP</td>\n",
       "      <td>Male</td>\n",
       "      <td>10000.0</td>\n",
       "    </tr>\n",
       "  </tbody>\n",
       "</table>"
      ],
      "text/plain": [
       "<IPython.core.display.HTML object>"
      ]
     },
     "metadata": {},
     "output_type": "display_data"
    },
    {
     "data": {
      "image/png": "[encoded data removed]",
      "text/plain": [
       "<Figure size 432x288 with 1 Axes>"
      ]
     },
     "metadata": {
      "needs_background": "light"
     },
     "output_type": "display_data"
    }
   ],
   "source": [
    "\n",
    "import os\n",
    "import pandas as pd\n",
    "import numpy as np\n",
    "import seaborn as sns\n",
    "import matplotlib.pyplot as plt\n",
    "from sklearn.impute import SimpleImputer\n",
    "from sklearn.impute import KNNImputer\n",
    "from IPython.core.display import HTML\n",
    "os.chdir(r'C:\\Users\\Admin\\Desktop')\n",
    "df=pd.read_excel('sample 1.xlsx')\n",
    "\n",
    "\n",
    "\n",
    "def quickinfo(df):\n",
    "    print(\"The Percenatge of Value Missing in Given Data is : {:.2f}%\".format(((df.isna().sum().sum())/(df.count().sum())*100)))\n",
    "    print('')\n",
    "    print(\"The Percenatge of Value Missing in Given column is : {:.2f}%\".format(((df[variable].isna().sum().sum())/(df.count().sum())*100)))\n",
    "    total_column=dict((df.dtypes))\n",
    "    total_column_set=set(total_column.keys())\n",
    "    numerical_column_set=set(dict(df.median()).keys())\n",
    "    categorical_column=list(total_column_set-numerical_column_set)\n",
    "    print(\"The Categorical Data we have :\",categorical_column)\n",
    "    print('')\n",
    "    print('Shape of dataframe (Rows, Columns): ',df.shape)\n",
    "    print('')\n",
    "    print('Data description : ',df.describe())\n",
    "    print('')\n",
    "    print(\" missing values will be treated using arbitrary value \")\n",
    "quickinfo(df)\n",
    "\n",
    "\n",
    "variable=(input(\"enter the column which you want to fill\"))\n",
    "\n",
    "\n",
    "def plot(variable):\n",
    "    print(\"Following line plot shows missing data in given dataset \")\n",
    "    df[variable].plot.line(subplots = True)\n",
    "    \n",
    "plot(variable)\n",
    "\n",
    "\n",
    "arbitrary_value=(input('enter the arbitrary_value a/c to graph'))\n",
    "\n",
    "\n",
    "\n",
    "\n",
    "def impute_nan(df,variable,arbitrary_value):\n",
    "    df[variable]=df[variable].fillna(arbitrary_value)\n",
    "    display(HTML(df.head().to_html()))\n",
    "    \n",
    "    \n",
    "impute_nan(df,variable,arbitrary_value)\n",
    "\n",
    "\n"
   ]
  },
  {
   "cell_type": "code",
   "execution_count": null,
   "metadata": {},
   "outputs": [],
   "source": []
  }
 ],
 "metadata": {
  "kernelspec": {
   "display_name": "Python 3",
   "language": "python",
   "name": "python3"
  },
  "language_info": {
   "codemirror_mode": {
    "name": "ipython",
    "version": 3
   },
   "file_extension": ".py",
   "mimetype": "text/x-python",
   "name": "python",
   "nbconvert_exporter": "python",
   "pygments_lexer": "ipython3",
   "version": "3.8.3"
  }
 },
 "nbformat": 4,
 "nbformat_minor": 4
}
