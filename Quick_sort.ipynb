{
 "cells": [
  {
   "cell_type": "code",
   "execution_count": 1,
   "metadata": {},
   "outputs": [],
   "source": [
    "def swap(a,b,arr):\n",
    "    temp=0\n",
    "    temp=arr[a]\n",
    "    arr[a]=arr[b]\n",
    "    arr[b]=temp\n",
    "\n",
    "\n",
    "\n",
    "\n",
    "\n",
    "\n",
    "\n",
    "def hoare_partition(lst,start,end):\n",
    "    pivot_index=0\n",
    "    pivot=lst[pivot_index]\n",
    "  #  start=pivot_index+1\n",
    "   # end=len(lst)-1\n",
    "    while start < end :\n",
    "        while lst[start] < len(lst) and lst[start] <= pivot:\n",
    "            start=start+1\n",
    "        \n",
    "        while lst[end] > pivot:\n",
    "            end=end-1\n",
    "        \n",
    "        if start < end:\n",
    "           # swap(start,end,lst)\n",
    "            temp=lst[start]\n",
    "            lst[start]=lst[end]\n",
    "            lst[end]=temp\n",
    "    #swap(pivot_index,end,lst)\n",
    "    x=lst[pivot_index]\n",
    "    lst[pivot_index]=lst[end]\n",
    "    lst[end]=x\n",
    "    return end   "
   ]
  },
  {
   "cell_type": "code",
   "execution_count": 2,
   "metadata": {},
   "outputs": [],
   "source": [
    "def quick_sort(lst,start,end):\n",
    "    if start < end:\n",
    "        \n",
    "        pi=hoare_partition(lst,start,end)\n",
    "        quick_sort(lst,start,pi-1)\n",
    "        quick_sort(lst,pi+1,end)\n",
    "    \n",
    "    "
   ]
  },
  {
   "cell_type": "code",
   "execution_count": null,
   "metadata": {},
   "outputs": [],
   "source": []
  },
  {
   "cell_type": "code",
   "execution_count": null,
   "metadata": {},
   "outputs": [],
   "source": [
    "if __name__=='__main__':\n",
    "    lst=[11,9,29,7,2,15,28]\n",
    "    quick_sort(lst,0,len(lst)-1)\n",
    "    print(lst)"
   ]
  },
  {
   "cell_type": "code",
   "execution_count": null,
   "metadata": {},
   "outputs": [],
   "source": []
  }
 ],
 "metadata": {
  "kernelspec": {
   "display_name": "Python 3",
   "language": "python",
   "name": "python3"
  },
  "language_info": {
   "codemirror_mode": {
    "name": "ipython",
    "version": 3
   },
   "file_extension": ".py",
   "mimetype": "text/x-python",
   "name": "python",
   "nbconvert_exporter": "python",
   "pygments_lexer": "ipython3",
   "version": "3.8.3"
  }
 },
 "nbformat": 4,
 "nbformat_minor": 4
}
