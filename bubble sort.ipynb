{
 "cells": [
  {
   "cell_type": "code",
   "execution_count": 77,
   "metadata": {},
   "outputs": [],
   "source": [
    "def bubble_sort(lst,key):\n",
    "    size=len(lst)-1\n",
    "    for i in range(size):\n",
    "        for j in range(size-i):\n",
    "            if lst[key][j] > lst[key][j+1]:\n",
    "                temp=lst[key][j]\n",
    "                lst[key][j]=lst[key][j+1]\n",
    "                lst[key][j+1]=temp\n",
    "    "
   ]
  },
  {
   "cell_type": "code",
   "execution_count": 80,
   "metadata": {},
   "outputs": [],
   "source": [
    "if __name__=='__main__':\n",
    "    lst={'name':['harshal','dhawal','rohit'],\n",
    "         'salary':['30000','25000','30000']}\n",
    "    srt=bubble_sort(lst,'salary')"
   ]
  },
  {
   "cell_type": "code",
   "execution_count": 81,
   "metadata": {},
   "outputs": [
    {
     "name": "stdout",
     "output_type": "stream",
     "text": [
      "{'name': ['harshal', 'dhawal', 'rohit'], 'salary': ['25000', '30000', '30000']}\n"
     ]
    }
   ],
   "source": [
    "print(lst)"
   ]
  },
  {
   "cell_type": "code",
   "execution_count": null,
   "metadata": {},
   "outputs": [],
   "source": []
  },
  {
   "cell_type": "code",
   "execution_count": null,
   "metadata": {},
   "outputs": [],
   "source": []
  }
 ],
 "metadata": {
  "kernelspec": {
   "display_name": "Python 3",
   "language": "python",
   "name": "python3"
  },
  "language_info": {
   "codemirror_mode": {
    "name": "ipython",
    "version": 3
   },
   "file_extension": ".py",
   "mimetype": "text/x-python",
   "name": "python",
   "nbconvert_exporter": "python",
   "pygments_lexer": "ipython3",
   "version": "3.8.3"
  }
 },
 "nbformat": 4,
 "nbformat_minor": 4
}
