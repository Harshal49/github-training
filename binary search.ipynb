{
 "cells": [
  {
   "cell_type": "code",
   "execution_count": 24,
   "metadata": {},
   "outputs": [],
   "source": [
    "def binary_search(lst,no_to_find,l_index,r_index):\n",
    "    \n",
    "    while l_index <= r_index:\n",
    "        \n",
    "        mid_index=(l_index +r_index)//2\n",
    "        mid_no=lst[mid_index]\n",
    "    \n",
    "        if mid_no==no_to_find:\n",
    "            return mid_index,mid_no\n",
    "    \n",
    "        if no_to_find < mid_no:\n",
    "            r_index=mid_index - 1\n",
    "            \n",
    "        if no_to_find > mid_index:\n",
    "            \n",
    "            \n",
    "            l_index=mid_index + 1\n",
    "    \n",
    "    return -1\n",
    "        \n",
    "        \n",
    "#x=binary_search([1,2,3,5,5,15,7,8,9],15,0,len(lst)-1)\n",
    "#print(x)\n",
    "        \n",
    "    #return binary_search(lst,no_to_find,l_index,r_index)"
   ]
  },
  {
   "cell_type": "code",
   "execution_count": 25,
   "metadata": {},
   "outputs": [],
   "source": [
    "if __name__=='__main__':\n",
    "    lst=[1,2,3,5,6,7,8,9,15]\n",
    "    #no_to_find=6\n",
    "    index=binary_search(lst,1,0,len(lst)-1)"
   ]
  },
  {
   "cell_type": "code",
   "execution_count": 26,
   "metadata": {},
   "outputs": [
    {
     "data": {
      "text/plain": [
       "-1"
      ]
     },
     "execution_count": 26,
     "metadata": {},
     "output_type": "execute_result"
    }
   ],
   "source": [
    "index"
   ]
  },
  {
   "cell_type": "code",
   "execution_count": 169,
   "metadata": {},
   "outputs": [
    {
     "data": {
      "text/plain": [
       "9"
      ]
     },
     "execution_count": 169,
     "metadata": {},
     "output_type": "execute_result"
    }
   ],
   "source": [
    "len(lst)"
   ]
  },
  {
   "cell_type": "code",
   "execution_count": 190,
   "metadata": {},
   "outputs": [
    {
     "name": "stdout",
     "output_type": "stream",
     "text": [
      "[5, 4]\n",
      "[5, 4]\n"
     ]
    }
   ],
   "source": [
    "l=[4,5]\n",
    "print(l[::-1])"
   ]
  },
  {
   "cell_type": "code",
   "execution_count": 185,
   "metadata": {},
   "outputs": [
    {
     "name": "stdout",
     "output_type": "stream",
     "text": [
      "55 45\n"
     ]
    }
   ],
   "source": [
    "a=45\n",
    "b=55\n",
    "a,b=b,a\n",
    "print(a,b)"
   ]
  },
  {
   "cell_type": "code",
   "execution_count": null,
   "metadata": {},
   "outputs": [],
   "source": [
    "l="
   ]
  },
  {
   "cell_type": "code",
   "execution_count": null,
   "metadata": {},
   "outputs": [],
   "source": []
  }
 ],
 "metadata": {
  "kernelspec": {
   "display_name": "Python 3",
   "language": "python",
   "name": "python3"
  },
  "language_info": {
   "codemirror_mode": {
    "name": "ipython",
    "version": 3
   },
   "file_extension": ".py",
   "mimetype": "text/x-python",
   "name": "python",
   "nbconvert_exporter": "python",
   "pygments_lexer": "ipython3",
   "version": "3.8.3"
  }
 },
 "nbformat": 4,
 "nbformat_minor": 4
}
